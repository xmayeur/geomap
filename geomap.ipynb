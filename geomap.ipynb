{
 "cells": [
  {
   "metadata": {},
   "cell_type": "markdown",
   "source": "",
   "id": "9b78e0c0ec4895a3"
  },
  {
   "metadata": {
    "ExecuteTime": {
     "end_time": "2025-03-06T22:50:06.033945Z",
     "start_time": "2025-03-06T22:50:06.029737Z"
    }
   },
   "cell_type": "code",
   "source": "",
   "id": "d87511a304a8d526",
   "outputs": [],
   "execution_count": null
  },
  {
   "metadata": {
    "ExecuteTime": {
     "end_time": "2025-03-06T22:57:30.187195Z",
     "start_time": "2025-03-06T22:57:29.843213Z"
    }
   },
   "cell_type": "code",
   "source": [
    "import folium\n",
    "from geopy.geocoders import TomTom\n",
    "from getSecrets import get_secret\n",
    "\n",
    "key = get_secret(\"TomTomAPI\")[\"key\"]\n",
    "\n",
    "# geolocator = Nominatim(user_agent=\"my_geocoder\")\n",
    "geolocator = TomTom(api_key=key)\n",
    "\n",
    "location = geolocator.geocode(\"Bruxelles, Belgique\")\n",
    "m = folium.Map([location.latitude, location.longitude], zoom_start=9)\n",
    "# L.tileLayer.provider('TomTom', {\n",
    "#     \"apikey\": key\n",
    "# }).addTo(map);\n",
    "\n",
    "address = \" 2 Avenue des Anciens Combattants, 1950 Kraainem, Belgique\"\n",
    "location = geolocator.geocode(address)\n",
    "\n",
    "folium.Marker(\n",
    "    location=[location.latitude, location.longitude],\n",
    "    tooltip=\"Home\",\n",
    "    popup=address,\n",
    "    icon=folium.Icon(color=\"red\"),\n",
    ").add_to(m)\n",
    "m"
   ],
   "id": "251e14353d79396e",
   "outputs": [
    {
     "data": {
      "text/plain": [
       "<folium.folium.Map at 0x17bdc0090>"
      ],
      "text/html": [
       "<div style=\"width:100%;\"><div style=\"position:relative;width:100%;height:0;padding-bottom:60%;\"><span style=\"color:#565656\">Make this Notebook Trusted to load map: File -> Trust Notebook</span><iframe srcdoc=\"&lt;!DOCTYPE html&gt;\n",
       "&lt;html&gt;\n",
       "&lt;head&gt;\n",
       "    \n",
       "    &lt;meta http-equiv=&quot;content-type&quot; content=&quot;text/html; charset=UTF-8&quot; /&gt;\n",
       "    \n",
       "        &lt;script&gt;\n",
       "            L_NO_TOUCH = false;\n",
       "            L_DISABLE_3D = false;\n",
       "        &lt;/script&gt;\n",
       "    \n",
       "    &lt;style&gt;html, body {width: 100%;height: 100%;margin: 0;padding: 0;}&lt;/style&gt;\n",
       "    &lt;style&gt;#map {position:absolute;top:0;bottom:0;right:0;left:0;}&lt;/style&gt;\n",
       "    &lt;script src=&quot;https://cdn.jsdelivr.net/npm/leaflet@1.9.3/dist/leaflet.js&quot;&gt;&lt;/script&gt;\n",
       "    &lt;script src=&quot;https://code.jquery.com/jquery-3.7.1.min.js&quot;&gt;&lt;/script&gt;\n",
       "    &lt;script src=&quot;https://cdn.jsdelivr.net/npm/bootstrap@5.2.2/dist/js/bootstrap.bundle.min.js&quot;&gt;&lt;/script&gt;\n",
       "    &lt;script src=&quot;https://cdnjs.cloudflare.com/ajax/libs/Leaflet.awesome-markers/2.0.2/leaflet.awesome-markers.js&quot;&gt;&lt;/script&gt;\n",
       "    &lt;link rel=&quot;stylesheet&quot; href=&quot;https://cdn.jsdelivr.net/npm/leaflet@1.9.3/dist/leaflet.css&quot;/&gt;\n",
       "    &lt;link rel=&quot;stylesheet&quot; href=&quot;https://cdn.jsdelivr.net/npm/bootstrap@5.2.2/dist/css/bootstrap.min.css&quot;/&gt;\n",
       "    &lt;link rel=&quot;stylesheet&quot; href=&quot;https://netdna.bootstrapcdn.com/bootstrap/3.0.0/css/bootstrap-glyphicons.css&quot;/&gt;\n",
       "    &lt;link rel=&quot;stylesheet&quot; href=&quot;https://cdn.jsdelivr.net/npm/@fortawesome/fontawesome-free@6.2.0/css/all.min.css&quot;/&gt;\n",
       "    &lt;link rel=&quot;stylesheet&quot; href=&quot;https://cdnjs.cloudflare.com/ajax/libs/Leaflet.awesome-markers/2.0.2/leaflet.awesome-markers.css&quot;/&gt;\n",
       "    &lt;link rel=&quot;stylesheet&quot; href=&quot;https://cdn.jsdelivr.net/gh/python-visualization/folium/folium/templates/leaflet.awesome.rotate.min.css&quot;/&gt;\n",
       "    \n",
       "            &lt;meta name=&quot;viewport&quot; content=&quot;width=device-width,\n",
       "                initial-scale=1.0, maximum-scale=1.0, user-scalable=no&quot; /&gt;\n",
       "            &lt;style&gt;\n",
       "                #map_984c8b8ed9bfd5841fdd0f79f41c8549 {\n",
       "                    position: relative;\n",
       "                    width: 100.0%;\n",
       "                    height: 100.0%;\n",
       "                    left: 0.0%;\n",
       "                    top: 0.0%;\n",
       "                }\n",
       "                .leaflet-container { font-size: 1rem; }\n",
       "            &lt;/style&gt;\n",
       "        \n",
       "&lt;/head&gt;\n",
       "&lt;body&gt;\n",
       "    \n",
       "    \n",
       "            &lt;div class=&quot;folium-map&quot; id=&quot;map_984c8b8ed9bfd5841fdd0f79f41c8549&quot; &gt;&lt;/div&gt;\n",
       "        \n",
       "&lt;/body&gt;\n",
       "&lt;script&gt;\n",
       "    \n",
       "    \n",
       "            var map_984c8b8ed9bfd5841fdd0f79f41c8549 = L.map(\n",
       "                &quot;map_984c8b8ed9bfd5841fdd0f79f41c8549&quot;,\n",
       "                {\n",
       "                    center: [50.8455341, 4.3557022],\n",
       "                    crs: L.CRS.EPSG3857,\n",
       "                    ...{\n",
       "  &quot;zoom&quot;: 9,\n",
       "  &quot;zoomControl&quot;: true,\n",
       "  &quot;preferCanvas&quot;: false,\n",
       "}\n",
       "\n",
       "                }\n",
       "            );\n",
       "\n",
       "            \n",
       "\n",
       "        \n",
       "    \n",
       "            var tile_layer_eb1add259f3cda3e54ec4dd26c1290ea = L.tileLayer(\n",
       "                &quot;https://tile.openstreetmap.org/{z}/{x}/{y}.png&quot;,\n",
       "                {\n",
       "  &quot;minZoom&quot;: 0,\n",
       "  &quot;maxZoom&quot;: 19,\n",
       "  &quot;maxNativeZoom&quot;: 19,\n",
       "  &quot;noWrap&quot;: false,\n",
       "  &quot;attribution&quot;: &quot;\\u0026copy; \\u003ca href=\\&quot;https://www.openstreetmap.org/copyright\\&quot;\\u003eOpenStreetMap\\u003c/a\\u003e contributors&quot;,\n",
       "  &quot;subdomains&quot;: &quot;abc&quot;,\n",
       "  &quot;detectRetina&quot;: false,\n",
       "  &quot;tms&quot;: false,\n",
       "  &quot;opacity&quot;: 1,\n",
       "}\n",
       "\n",
       "            );\n",
       "        \n",
       "    \n",
       "            tile_layer_eb1add259f3cda3e54ec4dd26c1290ea.addTo(map_984c8b8ed9bfd5841fdd0f79f41c8549);\n",
       "        \n",
       "    \n",
       "            var marker_f6afb5d22123f2bb0706acab330a923c = L.marker(\n",
       "                [50.8623063, 4.4638211],\n",
       "                {\n",
       "}\n",
       "            ).addTo(map_984c8b8ed9bfd5841fdd0f79f41c8549);\n",
       "        \n",
       "    \n",
       "            var icon_ae6ce76a4384f1b2f335350dcf90c33f = L.AwesomeMarkers.icon(\n",
       "                {\n",
       "  &quot;markerColor&quot;: &quot;red&quot;,\n",
       "  &quot;iconColor&quot;: &quot;white&quot;,\n",
       "  &quot;icon&quot;: &quot;info-sign&quot;,\n",
       "  &quot;prefix&quot;: &quot;glyphicon&quot;,\n",
       "  &quot;extraClasses&quot;: &quot;fa-rotate-0&quot;,\n",
       "}\n",
       "            );\n",
       "        \n",
       "    \n",
       "        var popup_585bb5a7399e84c268c2a8bdc8400dac = L.popup({\n",
       "  &quot;maxWidth&quot;: &quot;100%&quot;,\n",
       "});\n",
       "\n",
       "        \n",
       "            \n",
       "                var html_66c99880efc2b79cf7be925ad470ea08 = $(`&lt;div id=&quot;html_66c99880efc2b79cf7be925ad470ea08&quot; style=&quot;width: 100.0%; height: 100.0%;&quot;&gt; 2 Avenue des Anciens Combattants, 1950 Kraainem, Belgique&lt;/div&gt;`)[0];\n",
       "                popup_585bb5a7399e84c268c2a8bdc8400dac.setContent(html_66c99880efc2b79cf7be925ad470ea08);\n",
       "            \n",
       "        \n",
       "\n",
       "        marker_f6afb5d22123f2bb0706acab330a923c.bindPopup(popup_585bb5a7399e84c268c2a8bdc8400dac)\n",
       "        ;\n",
       "\n",
       "        \n",
       "    \n",
       "    \n",
       "            marker_f6afb5d22123f2bb0706acab330a923c.bindTooltip(\n",
       "                `&lt;div&gt;\n",
       "                     Home\n",
       "                 &lt;/div&gt;`,\n",
       "                {\n",
       "  &quot;sticky&quot;: true,\n",
       "}\n",
       "            );\n",
       "        \n",
       "    \n",
       "                marker_f6afb5d22123f2bb0706acab330a923c.setIcon(icon_ae6ce76a4384f1b2f335350dcf90c33f);\n",
       "            \n",
       "&lt;/script&gt;\n",
       "&lt;/html&gt;\" style=\"position:absolute;width:100%;height:100%;left:0;top:0;border:none !important;\" allowfullscreen webkitallowfullscreen mozallowfullscreen></iframe></div></div>"
      ]
     },
     "execution_count": 32,
     "metadata": {},
     "output_type": "execute_result"
    }
   ],
   "execution_count": 32
  },
  {
   "metadata": {
    "ExecuteTime": {
     "end_time": "2025-03-06T22:51:09.694027Z",
     "start_time": "2025-03-06T22:51:09.691747Z"
    }
   },
   "cell_type": "code",
   "source": [
    "\n",
    "\n",
    "\n",
    "\n"
   ],
   "id": "91c46d6ddda9d190",
   "outputs": [],
   "execution_count": 29
  },
  {
   "metadata": {
    "ExecuteTime": {
     "end_time": "2025-03-06T15:28:57.454709Z",
     "start_time": "2025-03-06T15:28:57.447093Z"
    }
   },
   "cell_type": "code",
   "source": "m.save(\"/Users/xavier/PycharmProjects/geomap/index.html\")",
   "id": "3c828d085ac44b91",
   "outputs": [],
   "execution_count": 33
  }
 ],
 "metadata": {
  "kernelspec": {
   "display_name": "Python 3",
   "language": "python",
   "name": "python3"
  },
  "language_info": {
   "codemirror_mode": {
    "name": "ipython",
    "version": 2
   },
   "file_extension": ".py",
   "mimetype": "text/x-python",
   "name": "python",
   "nbconvert_exporter": "python",
   "pygments_lexer": "ipython2",
   "version": "2.7.6"
  }
 },
 "nbformat": 4,
 "nbformat_minor": 5
}
